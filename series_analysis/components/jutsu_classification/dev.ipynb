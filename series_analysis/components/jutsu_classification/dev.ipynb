{
 "cells": [
  {
   "cell_type": "code",
   "execution_count": 3,
   "metadata": {},
   "outputs": [],
   "source": [
    "import pandas as pd"
   ]
  },
  {
   "cell_type": "markdown",
   "metadata": {},
   "source": [
    "# Load Dataset"
   ]
  },
  {
   "cell_type": "code",
   "execution_count": 13,
   "metadata": {},
   "outputs": [
    {
     "name": "stdout",
     "output_type": "stream",
     "text": [
      "/Users/ngkuissi/Dev/projects/nlp_series_analysis/series_analysis/components/jutsu_classification\n"
     ]
    }
   ],
   "source": [
    "!pwd"
   ]
  },
  {
   "cell_type": "code",
   "execution_count": null,
   "metadata": {},
   "outputs": [],
   "source": []
  },
  {
   "cell_type": "code",
   "execution_count": 19,
   "metadata": {},
   "outputs": [],
   "source": [
    "data_path = \"../../../data/jutsu.jsonl\"\n",
    "df = pd.read_json(data_path, lines=True)"
   ]
  },
  {
   "cell_type": "code",
   "execution_count": 20,
   "metadata": {},
   "outputs": [
    {
     "data": {
      "text/html": [
       "<div>\n",
       "<style scoped>\n",
       "    .dataframe tbody tr th:only-of-type {\n",
       "        vertical-align: middle;\n",
       "    }\n",
       "\n",
       "    .dataframe tbody tr th {\n",
       "        vertical-align: top;\n",
       "    }\n",
       "\n",
       "    .dataframe thead th {\n",
       "        text-align: right;\n",
       "    }\n",
       "</style>\n",
       "<table border=\"1\" class=\"dataframe\">\n",
       "  <thead>\n",
       "    <tr style=\"text-align: right;\">\n",
       "      <th></th>\n",
       "      <th>technique_name</th>\n",
       "      <th>technique_type</th>\n",
       "      <th>technique_decription</th>\n",
       "    </tr>\n",
       "  </thead>\n",
       "  <tbody>\n",
       "    <tr>\n",
       "      <th>0</th>\n",
       "      <td>Air Sand Protective Wall</td>\n",
       "      <td>Ninjutsu</td>\n",
       "      <td>This air defence technique creates a giant shi...</td>\n",
       "    </tr>\n",
       "    <tr>\n",
       "      <th>1</th>\n",
       "      <td>Agonizing Thorn Technique (Simply Put a Kanchō)</td>\n",
       "      <td>Taijutsu, Ninjutsu</td>\n",
       "      <td>After punching and kicking the opponent a few ...</td>\n",
       "    </tr>\n",
       "    <tr>\n",
       "      <th>2</th>\n",
       "      <td>Afterglow</td>\n",
       "      <td>Kenjutsu</td>\n",
       "      <td>Sasuke dashes toward his opponent and quickly ...</td>\n",
       "    </tr>\n",
       "    <tr>\n",
       "      <th>3</th>\n",
       "      <td>Adamantine Sealing Chains</td>\n",
       "      <td>Hiden, Ninjutsu, Fūinjutsu, Barrier Ninjutsu</td>\n",
       "      <td>This is a sealing technique that is characteri...</td>\n",
       "    </tr>\n",
       "    <tr>\n",
       "      <th>4</th>\n",
       "      <td>Air Lightning Strike</td>\n",
       "      <td>Taijutsu, Shurikenjutsu</td>\n",
       "      <td>The user punches the opponent twice with their...</td>\n",
       "    </tr>\n",
       "  </tbody>\n",
       "</table>\n",
       "</div>"
      ],
      "text/plain": [
       "                                    technique_name  \\\n",
       "0                         Air Sand Protective Wall   \n",
       "1  Agonizing Thorn Technique (Simply Put a Kanchō)   \n",
       "2                                        Afterglow   \n",
       "3                        Adamantine Sealing Chains   \n",
       "4                             Air Lightning Strike   \n",
       "\n",
       "                                 technique_type  \\\n",
       "0                                      Ninjutsu   \n",
       "1                            Taijutsu, Ninjutsu   \n",
       "2                                      Kenjutsu   \n",
       "3  Hiden, Ninjutsu, Fūinjutsu, Barrier Ninjutsu   \n",
       "4                       Taijutsu, Shurikenjutsu   \n",
       "\n",
       "                                technique_decription  \n",
       "0  This air defence technique creates a giant shi...  \n",
       "1  After punching and kicking the opponent a few ...  \n",
       "2  Sasuke dashes toward his opponent and quickly ...  \n",
       "3  This is a sealing technique that is characteri...  \n",
       "4  The user punches the opponent twice with their...  "
      ]
     },
     "execution_count": 20,
     "metadata": {},
     "output_type": "execute_result"
    }
   ],
   "source": [
    "df.head()"
   ]
  },
  {
   "cell_type": "code",
   "execution_count": 47,
   "metadata": {},
   "outputs": [],
   "source": [
    "def filter_jutsu(jutsu):\n",
    "    if \"Genjutsu\" in jutsu:\n",
    "        return \"Genjustu\"\n",
    "    elif \"Ninjutsu\" in jutsu:\n",
    "        return \"Ninjutsu\"\n",
    "    elif \"Taijutsu\" in jutsu:\n",
    "        return \"Taijutsu\"\n",
    "    elif \"Kenjutsu\" in jutsu:\n",
    "        return \"Kenjutsu\"\n",
    "    elif \"Shinjutsu\" in jutsu:\n",
    "        return \"Shinjutsu\"\n",
    "    elif \"Scientific Ninja Tool Techniques\" in jutsu:\n",
    "        return \"Scientific Ninja Tool Techniques\"\n",
    "    else:\n",
    "        return \"Jutsu\""
   ]
  },
  {
   "cell_type": "code",
   "execution_count": 45,
   "metadata": {},
   "outputs": [],
   "source": [
    "df['jutsu_class'] = df['technique_type'].apply(filter_jutsu)"
   ]
  },
  {
   "cell_type": "code",
   "execution_count": 46,
   "metadata": {},
   "outputs": [
    {
     "data": {
      "text/plain": [
       "jutsu_class\n",
       "Ninjutsu                            2265\n",
       "Taijutsu                             398\n",
       "Genjustu                             101\n",
       "Jutsu                                 93\n",
       "Kenjutsu                              45\n",
       "Shinjutsu                             20\n",
       "Scientific Ninja Tool Techniques      10\n",
       "Name: count, dtype: int64"
      ]
     },
     "execution_count": 46,
     "metadata": {},
     "output_type": "execute_result"
    }
   ],
   "source": [
    "df['jutsu_class'].value_counts()"
   ]
  },
  {
   "cell_type": "code",
   "execution_count": 54,
   "metadata": {},
   "outputs": [],
   "source": [
    "df['text'] = df.technique_name + \" : \" + df.technique_decription\n",
    "df['class'] = df['jutsu_class']\n",
    "data = df[['text', 'class']]"
   ]
  },
  {
   "cell_type": "code",
   "execution_count": null,
   "metadata": {},
   "outputs": [],
   "source": []
  },
  {
   "cell_type": "code",
   "execution_count": null,
   "metadata": {},
   "outputs": [],
   "source": []
  },
  {
   "cell_type": "code",
   "execution_count": null,
   "metadata": {},
   "outputs": [],
   "source": []
  }
 ],
 "metadata": {
  "kernelspec": {
   "display_name": "series_analysis",
   "language": "python",
   "name": "python3"
  },
  "language_info": {
   "codemirror_mode": {
    "name": "ipython",
    "version": 3
   },
   "file_extension": ".py",
   "mimetype": "text/x-python",
   "name": "python",
   "nbconvert_exporter": "python",
   "pygments_lexer": "ipython3",
   "version": "3.9.20"
  }
 },
 "nbformat": 4,
 "nbformat_minor": 2
}
