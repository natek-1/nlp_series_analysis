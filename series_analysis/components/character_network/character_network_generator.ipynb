{
 "cells": [
  {
   "cell_type": "markdown",
   "metadata": {},
   "source": [
    "## Named Entity Recognition"
   ]
  },
  {
   "cell_type": "code",
   "execution_count": null,
   "metadata": {},
   "outputs": [],
   "source": [
    "## Make sure to run !python -m spacy download en_core_web_trf which is the named entity recognition model we use\n",
    "import spacy\n",
    "from nltk import sent_tokenize\n",
    "import os\n",
    "import sys\n",
    "import pathlib\n",
    "import glob\n",
    "from series_analysis.utils.main_utils import load_subtitles_dataset"
   ]
  },
  {
   "cell_type": "code",
   "execution_count": 2,
   "metadata": {},
   "outputs": [],
   "source": [
    "def load_model():\n",
    "    return spacy.load(\"en_core_web_trf\")"
   ]
  },
  {
   "cell_type": "markdown",
   "metadata": {},
   "source": [
    "### Loading the Dataset"
   ]
  },
  {
   "cell_type": "code",
   "execution_count": 63,
   "metadata": {},
   "outputs": [],
   "source": [
    "dataset_path = \"../../../data/subtitles\"\n",
    "df = load_subtitles_dataset(dataset_path)"
   ]
  },
  {
   "cell_type": "code",
   "execution_count": 64,
   "metadata": {},
   "outputs": [
    {
     "data": {
      "text/html": [
       "<div>\n",
       "<style scoped>\n",
       "    .dataframe tbody tr th:only-of-type {\n",
       "        vertical-align: middle;\n",
       "    }\n",
       "\n",
       "    .dataframe tbody tr th {\n",
       "        vertical-align: top;\n",
       "    }\n",
       "\n",
       "    .dataframe thead th {\n",
       "        text-align: right;\n",
       "    }\n",
       "</style>\n",
       "<table border=\"1\" class=\"dataframe\">\n",
       "  <thead>\n",
       "    <tr style=\"text-align: right;\">\n",
       "      <th></th>\n",
       "      <th>script</th>\n",
       "    </tr>\n",
       "  </thead>\n",
       "  <tbody>\n",
       "    <tr>\n",
       "      <th>0</th>\n",
       "      <td>We are Fighting Dreamers aiming high\\n Fightin...</td>\n",
       "    </tr>\n",
       "    <tr>\n",
       "      <th>1</th>\n",
       "      <td>We are Fighting Dreamers aiming high\\n Fightin...</td>\n",
       "    </tr>\n",
       "    <tr>\n",
       "      <th>2</th>\n",
       "      <td>Press down hard on the gas\\n That’s right ther...</td>\n",
       "    </tr>\n",
       "    <tr>\n",
       "      <th>3</th>\n",
       "      <td>Rock away your existence\\n Shouting that you a...</td>\n",
       "    </tr>\n",
       "    <tr>\n",
       "      <th>4</th>\n",
       "      <td>Rock away your existence\\n Shouting that you a...</td>\n",
       "    </tr>\n",
       "  </tbody>\n",
       "</table>\n",
       "</div>"
      ],
      "text/plain": [
       "                                              script\n",
       "0  We are Fighting Dreamers aiming high\\n Fightin...\n",
       "1  We are Fighting Dreamers aiming high\\n Fightin...\n",
       "2  Press down hard on the gas\\n That’s right ther...\n",
       "3  Rock away your existence\\n Shouting that you a...\n",
       "4  Rock away your existence\\n Shouting that you a..."
      ]
     },
     "execution_count": 64,
     "metadata": {},
     "output_type": "execute_result"
    }
   ],
   "source": [
    "df.head()"
   ]
  },
  {
   "cell_type": "code",
   "execution_count": 16,
   "metadata": {},
   "outputs": [
    {
     "name": "stdout",
     "output_type": "stream",
     "text": [
      "We are Fighting Dreamers aiming high\n",
      " Fighting Dreamersdon't care what people think about them\n",
      " Fighting Dreamersfollow what they believe\n",
      " Oli Oli Oli Oh! Just go my way\n",
      " Right here right now (Bang)Hit it straight like a line drive!\n",
      " Right here right now (Burn)\n",
      " Down a difficult roadfilled with endless struggles\n",
      " Where do you think you are goingfollowing someone else's map?\n",
      " An insightful crow comes alongto tear up the map\n",
      " Now open your eyes andtake a look at the truth (Yeah!)\n",
      " There's nothing to loseso let's GO!!!\n",
      " We are Fighting Dreamers aiming high\n",
      " Fighting Dreamersdon't care what people think about them\n",
      " Fighting Dreamersfollow what they believe\n",
      " Oli Oli Oli Oh!Just go my way\n",
      " Right here right now (Bang)Hit it straight like a line drive!\n",
      " Right here right now (Burn)We're gonna do it and do our best!\n",
      " Right here right now (Bang)Hit it straight like a line drive!\n",
      " Right here right now (Burn)We're gonna do it and do our best! BANG!\n",
      " My body movementshave finally returned…\n",
      " Blood…\n",
      " Lady Tsunade!\n",
      " Say! Say! What’s happening?!\n",
      " Why’s Kabuto fightingwith Old Lady Tsunade?!\n",
      " Take a good look at the headband!\n",
      " He’s Orochimaru’s subordinate.\n",
      " Attack! Fury of the Rasengan!\n",
      " That man is Orochimaru…\n",
      " Shizune you take care ofthe guy with the glasses…\n",
      " I’ll take care of Orochimaru.\n",
      " Before that I’d like to have Tsunadedo something about this body.\n",
      " The effects of that drugmight still last for awhile…\n",
      " There’s nothing thatI can do about it.\n",
      " What? Really?\n",
      " Geez. I guess it can’t be helped.\n",
      " I have no choicebut to fight in this condition.\n",
      " Tsunade… Rest your bodywith Recovery Ninjutsu.\n",
      " Then… What about me me?\n",
      " You guard Tsunade togetherwith that pig.\n",
      " What?! I want to fight too.Even I can--\n",
      " No you won’t!\n",
      " Like that four-eyed kid said right?\n",
      " You’re on a different level.\n",
      " The opponent is a Sannin like myself\n",
      " and the man who killedthe Third Hokage.\n",
      " An eye for an eye…I’m the only one who can fight him.\n",
      " And that four-eyed guy possessesthe same level of power as Kakashi.\n",
      " Okay.\n",
      " Then… Shadow Clo--\n",
      " Hold it!\n",
      " Don’t use the Shadow Clone Jutsu.lt’d be utterly pointless.\n",
      " What?\n",
      " It wouldn’t even becomemuch of a diversion…\n",
      " It’d be a waste of Chakra…\n",
      " with them as opponents.\n",
      " Now then let’s get this thing started.\n",
      " – Summoning Jutsu.– Summoning Jutsu.\n",
      " Hi.\n",
      " – Huh?! \t\t\t\t\t– What is this?!\n",
      " – Wha--?!– What the heck’s going on?!\n",
      " Long time no see.\n",
      " On account of the drug\n",
      " Master Jiraiya still can’t build upChakra very well.\n",
      " It looks like your stupidstill hasn’t healed eh Jiraiya.\n",
      " That’s too much even for youwith no ability.\n",
      " It seems Tsunade got youwith something.\n",
      " A sacrifice was necessary for that Jutsu\n",
      " so perhaps she was thinking aheadand drugged him\n",
      " with something thatwould contain his power.\n",
      " To think she’d makea sacrifice of Jiraiya…\n",
      " Well it sounds just like Tsunade.\n",
      " To think I’d already havemy handicap spotted.\n",
      " You are sucha disgraceful guy as always…\n",
      " Dang it. It kind of ticks me offwhen the Pervy Sage is mocked.\n",
      " Summoning…Jutsu!\n",
      " The Nine-Tailed Fox kidfrom the Chunin Exam.\n",
      " I wonder if I should’ve killed him thenafter all.\n",
      " For the sake of the Akatsuki organization\n",
      " I acknowledged his achievement…and let him slide by.\n",
      " But the only ones who can breaka Five-Pronged Spell\n",
      " are the Sannin membersand the Third Hokage.\n",
      " Which means Jiraiya may havealready taught it to Naruto.\n",
      " Perhaps.\n",
      " If he’s able to controlthe Nine-Tailed Fox’s power…\n",
      " Oh…\n",
      " Th-This is…\n",
      " It doesn’t quite look to be so.\n",
      " He isn’t endowed with Shinobi abilityto begin with so…\n",
      " Why?\n",
      " He’s still got a long way to gosure enough.\n",
      " Why?!\n",
      " Hello.\n",
      " Hey Gamatatsu.Why did you come out?\n",
      " Oh Brother Gamakichi.\n",
      " It’s the first time I’ve been Summoned.\n",
      " I-I wonder if I can do my best?\n",
      " Idiot. Get some snacksor something and hide.\n",
      " What? I can get snacks?Goody-goody.\n",
      " Here I go.\n",
      " I’ll take Jiraiya.\n",
      " I leave the rest to you.\n",
      " It’s unfortunate…\n",
      " Here I also wanted to fight Lord Jiraiyaone of the Sannin.\n",
      " Naruto!\n",
      " Your opponent is me.\n",
      " Earth Style! Dark Swamp!\n",
      " Dang it. I can’t completely sink themwith such a puny swamp.\n",
      " The drug is still working.\n",
      " But…with this the snakes can’t move.\n",
      " Ninja Art! Poison Fog!\n",
      " I’ll be up a creek ifI take even one breath.\n",
      " My leg tendons…!\n",
      " I won’t be eaten twice…!No way!\n",
      " Here I go.\n",
      " Ninja Art! Needle Jizo!\n",
      " Dang it…The Jutsu isn’t working well.\n",
      " Even if we both have handicapsyou won’t one-up me…\n",
      " Give up now.\n",
      " It’s unfortunate…\n",
      " Here I had respected youas a fellow Medical Ninja.\n",
      " Stop. Stay back!\n",
      " Please hang on Lady Tsunade…\n",
      " The Sannin name which Lord Orochimaruis also called will cry.\n",
      " My body’s heavy.\n",
      " To think you who wereonce called the village madness\n",
      " would ferry around such a kidand struggle tirelessly for the village.\n",
      " You’ve really fallen haven’t you?\n",
      " I have a keen eye to discern ability.\n",
      " And that kid…is mediocrity in my eyes.\n",
      " It’s precisely for this reason…that I don’t need the Uchiha kid.\n",
      " It’s no fun raising a geniuswho’s good from the start.\n",
      " So you can’t leave him alone\n",
      " because it’s like you’re lookingat your old self?\n",
      " That kid can’t beat Uchiha who inheritedthe inherent Sharingan Shinobi skill.\n",
      " And that’s because Narutodoesn’t possess the Sharingan.\n",
      " Shinobi ability is about whether\n",
      " one can use and masterall the Jutsu of the world.\n",
      " Ninja refers to onewho can use Ninjutsu.\n",
      " Shinobi ability is no such thing.\n",
      " You still don’t get it?\n",
      " A Ninja…is one who endures.\n",
      " It’s a difference of opinion huh.\n",
      " I’ll teach you one thing.\n",
      " What’s most important for Shinobi ability…\n",
      " isn’t the number of Jutsuone possesses.\n",
      " What’s important is…\n",
      " The mettle…\n",
      " not to give up.\n",
      " Enough already…you jerk!\n",
      " The mettle to never give up…\n",
      " He possesses that.\n",
      " Heh. I don’t know what Jutsu you learned\n",
      " but you can’t hit me withsuch a large motion.\n",
      " No good.\n",
      " It won’t easily hit witha moving opponent.\n",
      " Owwee!\n",
      " And the Chakra isn’tcompletely held yet…\n",
      " It seems you got a cracked thigh bonein your left leg\n",
      " from the battle with the snake.\n",
      " Well you can still move ifit’s just the bone.\n",
      " But it’s impossible now…\n",
      " The lateral vastus musclein your right leg is totally cut off.\n",
      " What should I do…?\n",
      " That Jutsu of mine uses both hands.\n",
      " If even one arm is taken out it’s over.\n",
      " Are you scared of me?\n",
      " Do you want to run away from here?\n",
      " Naruto as I recall\n",
      " you whooped it up like thisduring the first Chunin Exam.\n",
      " Don’t mess with me. I won’t run away!\n",
      " \"Don’t mess with me. I won’t run away.\"\n",
      " \"I’ll take it. Even if I’m a Genin for life…\"\n",
      " \"I’ll become the Hokage at any costso it’s okay with me.\"\n",
      " \"I’m not scared.\"\n",
      " Can you…whoop it up in the same way now?\n",
      " Unlike you…\n",
      " I will be the heir to the Hokage nameno matter what!\n",
      " – Hokage is my dream!– Hokage is my dream!\n",
      " You’re not a kid anymoreso you should stop whooping it up…\n",
      " Depending on the situation\n",
      " when you want to give up and run awayyou should run away.\n",
      " Oh my… What’s with that look?\n",
      " You’ll die! If you diethere are no dreams or anything…\n",
      " Do you want to die?\n",
      " You’re still a Geninso you should run away on the battlefield.\n",
      " Don’t tell a man to run away.\n",
      " Kids think that everything is easy.\n",
      " That’s why they talk about foolish dreamslike nothing at all.\n",
      " That’s why they can’t give up.\n",
      " Jiraiya was it youwho taught him that Rasengan?\n",
      " Are you acting like a teacher by teachinga Jutsu that can’t be learned?\n",
      " Don’t give him false hopes.\n",
      " That’s why a moony kid starts jokingthat he’ll become the Hokage!\n",
      " They chase after foolish dreams…and then die.\n",
      " If I have three daysI’ll master that Jutsu.\n",
      " Then let's make a bet.\n",
      " Bastard!\n",
      " As for me… I stand by my words.\n",
      " That’s…my Way of Ninja!\n",
      " A bet?\n",
      " I’ll give you one week.\n",
      " If you can master that Jutsu\n",
      " I’ll acknowledge thatyou’ll be able to become the Hokage…\n",
      " and give you this necklace.\n",
      " You should’ve juststayed out of this…\n",
      " Why?\n",
      " Why?!\n",
      " Old Lady Tsunade…\n",
      " You’re still going to get up?\n",
      " Just like our wager\n",
      " I will definitely winthat unlucky necklace from you.\n",
      " Shadow Clone Jutsu!\n",
      " Shadow Clone won’t do anything now.\n",
      " Enough… Don’t protect me Naruto.Stop it!\n",
      " I told you that you’d dieif you were obstinate like that right?\n",
      " If you die there will be no dreamsno nothing.\n",
      " Just get out of the way. Run away.\n",
      " Humph… It’s okay.\n",
      " I…\n",
      " I absolutely will not die…\n",
      " until I become the Hokage!\n",
      " This way I can hold on to you.Here I go!\n",
      " It’s the same Chakra movementas before.\n",
      " No this is…different.\n",
      " I see.\n",
      " In order to gain a handfor suppressing Chakra\n",
      " the Shadow Clone…\n",
      " Compress Chakra and…\n",
      " hold it completely.\n",
      " Wha--?!\n",
      " I-It can’t be.\n",
      " Rasengan!\n",
      " I believe your promiseits a true heart give me courage\n",
      " Always I feel itthe precious time with you\n",
      " On your still shoulder\n",
      " I feel the wind that blowstowards tomorrow\n",
      " The city lights are like pieces of stars\n",
      " That hold us together\n",
      " “Each one of us glows differently”\n",
      " you say laughingly\n",
      " but you look most dazzling\n",
      " Like a comet\n",
      " like the rainbow after the storm\n",
      " You bring light into my heart\n",
      " Being lost can be the answer\n",
      " Let’s promise we won’t cheat\n",
      " Uh... like a shooting starwe do go ahead.\n",
      " I never forget my ideal…\n",
      " to develop the Village Hidden in the Leafand protect its people.\n",
      " The Hokages have sacrificedtheir lives for that dream.\n",
      " And nowI also will put my life on the line.\n",
      " From this momentI am the Fifth Hokage!\n",
      " Next time: \"The Fifth Hokage!A Life on the Line!\"\n",
      "\n"
     ]
    }
   ],
   "source": [
    "sample_script = df.iloc[0]['script']\n",
    "print(sample_script)"
   ]
  },
  {
   "cell_type": "code",
   "execution_count": 19,
   "metadata": {},
   "outputs": [
    {
     "data": {
      "text/plain": [
       "'We are Fighting Dreamers aiming high\\n Fighting Dreamersdon\\'t care what people think about them\\n Fighting Dreamersfollow what they believe\\n Oli Oli Oli Oh!.Just go my way\\n Right here right now (Bang)Hit it straight like a line drive!.Right here right now (Burn)\\n Down a difficult roadfilled with endless struggles\\n Where do you think you are goingfollowing someone else\\'s map?.An insightful crow comes alongto tear up the map\\n Now open your eyes andtake a look at the truth (Yeah!).There\\'s nothing to loseso let\\'s GO!!!.We are Fighting Dreamers aiming high\\n Fighting Dreamersdon\\'t care what people think about them\\n Fighting Dreamersfollow what they believe\\n Oli Oli Oli Oh!Just go my way\\n Right here right now (Bang)Hit it straight like a line drive!.Right here right now (Burn)We\\'re gonna do it and do our best!.Right here right now (Bang)Hit it straight like a line drive!.Right here right now (Burn)We\\'re gonna do it and do our best!.BANG!.My body movementshave finally returned…\\n Blood…\\n Lady Tsunade!.Say!.Say!.What’s happening?!.Why’s Kabuto fightingwith Old Lady Tsunade?!.Take a good look at the headband!.He’s Orochimaru’s subordinate..Attack!.Fury of the Rasengan!.That man is Orochimaru…\\n Shizune you take care ofthe guy with the glasses…\\n I’ll take care of Orochimaru..Before that I’d like to have Tsunadedo something about this body..The effects of that drugmight still last for awhile…\\n There’s nothing thatI can do about it..What?.Really?.Geez..I guess it can’t be helped..I have no choicebut to fight in this condition..Tsunade… Rest your bodywith Recovery Ninjutsu..Then… What about me me?.You guard Tsunade togetherwith that pig..What?!.I want to fight too.Even I can--\\n No you won’t!.Like that four-eyed kid said right?.You’re on a different level..The opponent is a Sannin like myself\\n and the man who killedthe Third Hokage..An eye for an eye…I’m the only one who can fight him..And that four-eyed guy possessesthe same level of power as Kakashi..Okay..Then… Shadow Clo--\\n Hold it!.Don’t use the Shadow Clone Jutsu.lt’d be utterly pointless..What?.It wouldn’t even becomemuch of a diversion…\\n It’d be a waste of Chakra…\\n with them as opponents..Now then let’s get this thing started..– Summoning Jutsu.– Summoning Jutsu..Hi..– Huh?!.– What is this?!.– Wha--?.!– What the heck’s going on?!.Long time no see..On account of the drug\\n Master Jiraiya still can’t build upChakra very well..It looks like your stupidstill hasn’t healed eh Jiraiya..That’s too much even for youwith no ability..It seems Tsunade got youwith something..A sacrifice was necessary for that Jutsu\\n so perhaps she was thinking aheadand drugged him\\n with something thatwould contain his power..To think she’d makea sacrifice of Jiraiya…\\n Well it sounds just like Tsunade..To think I’d already havemy handicap spotted..You are sucha disgraceful guy as always…\\n Dang it..It kind of ticks me offwhen the Pervy Sage is mocked..Summoning…Jutsu!.The Nine-Tailed Fox kidfrom the Chunin Exam..I wonder if I should’ve killed him thenafter all..For the sake of the Akatsuki organization\\n I acknowledged his achievement…and let him slide by..But the only ones who can breaka Five-Pronged Spell\\n are the Sannin membersand the Third Hokage..Which means Jiraiya may havealready taught it to Naruto..Perhaps..If he’s able to controlthe Nine-Tailed Fox’s power…\\n Oh…\\n Th-This is…\\n It doesn’t quite look to be so..He isn’t endowed with Shinobi abilityto begin with so…\\n Why?.He’s still got a long way to gosure enough..Why?!.Hello..Hey Gamatatsu.Why did you come out?.Oh Brother Gamakichi..It’s the first time I’ve been Summoned..I-I wonder if I can do my best?.Idiot..Get some snacksor something and hide..What?.I can get snacks?Goody-goody..Here I go..I’ll take Jiraiya..I leave the rest to you..It’s unfortunate…\\n Here I also wanted to fight Lord Jiraiyaone of the Sannin..Naruto!.Your opponent is me..Earth Style!.Dark Swamp!.Dang it..I can’t completely sink themwith such a puny swamp..The drug is still working..But…with this the snakes can’t move..Ninja Art!.Poison Fog!.I’ll be up a creek ifI take even one breath..My leg tendons…!.I won’t be eaten twice…!No way!.Here I go..Ninja Art!.Needle Jizo!.Dang it…The Jutsu isn’t working well..Even if we both have handicapsyou won’t one-up me…\\n Give up now..It’s unfortunate…\\n Here I had respected youas a fellow Medical Ninja..Stop..Stay back!.Please hang on Lady Tsunade…\\n The Sannin name which Lord Orochimaruis also called will cry..My body’s heavy..To think you who wereonce called the village madness\\n would ferry around such a kidand struggle tirelessly for the village..You’ve really fallen haven’t you?.I have a keen eye to discern ability..And that kid…is mediocrity in my eyes..It’s precisely for this reason…that I don’t need the Uchiha kid..It’s no fun raising a geniuswho’s good from the start..So you can’t leave him alone\\n because it’s like you’re lookingat your old self?.That kid can’t beat Uchiha who inheritedthe inherent Sharingan Shinobi skill..And that’s because Narutodoesn’t possess the Sharingan..Shinobi ability is about whether\\n one can use and masterall the Jutsu of the world..Ninja refers to onewho can use Ninjutsu..Shinobi ability is no such thing..You still don’t get it?.A Ninja…is one who endures..It’s a difference of opinion huh..I’ll teach you one thing..What’s most important for Shinobi ability…\\n isn’t the number of Jutsuone possesses..What’s important is…\\n The mettle…\\n not to give up..Enough already…you jerk!.The mettle to never give up…\\n He possesses that..Heh..I don’t know what Jutsu you learned\\n but you can’t hit me withsuch a large motion..No good..It won’t easily hit witha moving opponent..Owwee!.And the Chakra isn’tcompletely held yet…\\n It seems you got a cracked thigh bonein your left leg\\n from the battle with the snake..Well you can still move ifit’s just the bone..But it’s impossible now…\\n The lateral vastus musclein your right leg is totally cut off..What should I do…?.That Jutsu of mine uses both hands..If even one arm is taken out it’s over..Are you scared of me?.Do you want to run away from here?.Naruto as I recall\\n you whooped it up like thisduring the first Chunin Exam..Don’t mess with me..I won’t run away!.\"Don’t mess with me..I won’t run away.\".\"I’ll take it..Even if I’m a Genin for life…\"\\n \"I’ll become the Hokage at any costso it’s okay with me.\".\"I’m not scared.\".Can you…whoop it up in the same way now?.Unlike you…\\n I will be the heir to the Hokage nameno matter what!.– Hokage is my dream!– Hokage is my dream!.You’re not a kid anymoreso you should stop whooping it up…\\n Depending on the situation\\n when you want to give up and run awayyou should run away..Oh my… What’s with that look?.You’ll die!.If you diethere are no dreams or anything…\\n Do you want to die?.You’re still a Geninso you should run away on the battlefield..Don’t tell a man to run away..Kids think that everything is easy..That’s why they talk about foolish dreamslike nothing at all..That’s why they can’t give up..Jiraiya was it youwho taught him that Rasengan?.Are you acting like a teacher by teachinga Jutsu that can’t be learned?.Don’t give him false hopes..That’s why a moony kid starts jokingthat he’ll become the Hokage!.They chase after foolish dreams…and then die..If I have three daysI’ll master that Jutsu..Then let\\'s make a bet..Bastard!.As for me… I stand by my words..That’s…my Way of Ninja!.A bet?.I’ll give you one week..If you can master that Jutsu\\n I’ll acknowledge thatyou’ll be able to become the Hokage…\\n and give you this necklace..You should’ve juststayed out of this…\\n Why?.Why?!.Old Lady Tsunade…\\n You’re still going to get up?.Just like our wager\\n I will definitely winthat unlucky necklace from you..Shadow Clone Jutsu!.Shadow Clone won’t do anything now..Enough… Don’t protect me Naruto.Stop it!.I told you that you’d dieif you were obstinate like that right?.If you die there will be no dreamsno nothing..Just get out of the way..Run away..Humph… It’s okay..I…\\n I absolutely will not die…\\n until I become the Hokage!.This way I can hold on to you.Here I go!.It’s the same Chakra movementas before..No this is…different..I see..In order to gain a handfor suppressing Chakra\\n the Shadow Clone…\\n Compress Chakra and…\\n hold it completely..Wha--?!.I-It can’t be..Rasengan!.I believe your promiseits a true heart give me courage\\n Always I feel itthe precious time with you\\n On your still shoulder\\n I feel the wind that blowstowards tomorrow\\n The city lights are like pieces of stars\\n That hold us together\\n “Each one of us glows differently”\\n you say laughingly\\n but you look most dazzling\\n Like a comet\\n like the rainbow after the storm\\n You bring light into my heart\\n Being lost can be the answer\\n Let’s promise we won’t cheat\\n Uh... like a shooting starwe do go ahead..I never forget my ideal…\\n to develop the Village Hidden in the Leafand protect its people..The Hokages have sacrificedtheir lives for that dream..And nowI also will put my life on the line..From this momentI am the Fifth Hokage!.Next time: \"The Fifth Hokage!A Life on the Line!\"'"
      ]
     },
     "execution_count": 19,
     "metadata": {},
     "output_type": "execute_result"
    }
   ],
   "source": [
    "sentences = sent_tokenize(sample_script)\n",
    "sentence = \".\".join(sentences)\n",
    "sentence"
   ]
  },
  {
   "cell_type": "markdown",
   "metadata": {},
   "source": [
    "### Run the model"
   ]
  },
  {
   "cell_type": "code",
   "execution_count": 55,
   "metadata": {},
   "outputs": [
    {
     "name": "stderr",
     "output_type": "stream",
     "text": [
      "/Users/ngkuissi/miniforge3/envs/series_analysis/lib/python3.9/site-packages/thinc/shims/pytorch.py:253: FutureWarning: You are using `torch.load` with `weights_only=False` (the current default value), which uses the default pickle module implicitly. It is possible to construct malicious pickle data which will execute arbitrary code during unpickling (See https://github.com/pytorch/pytorch/blob/main/SECURITY.md#untrusted-models for more details). In a future release, the default value for `weights_only` will be flipped to `True`. This limits the functions that could be executed during unpickling. Arbitrary objects will no longer be allowed to be loaded via this mode unless they are explicitly allowlisted by the user via `torch.serialization.add_safe_globals`. We recommend you start setting `weights_only=True` for any use case where you don't have full control of the loaded file. Please open an issue on GitHub for any issues related to this experimental feature.\n",
      "  model.load_state_dict(torch.load(filelike, map_location=device))\n"
     ]
    }
   ],
   "source": [
    "model = load_model()"
   ]
  },
  {
   "cell_type": "code",
   "execution_count": 26,
   "metadata": {},
   "outputs": [
    {
     "name": "stderr",
     "output_type": "stream",
     "text": [
      "/Users/ngkuissi/miniforge3/envs/series_analysis/lib/python3.9/site-packages/thinc/shims/pytorch.py:114: FutureWarning: `torch.cuda.amp.autocast(args...)` is deprecated. Please use `torch.amp.autocast('cuda', args...)` instead.\n",
      "  with torch.cuda.amp.autocast(self._mixed_precision):\n"
     ]
    },
    {
     "data": {
      "text/plain": [
       "(Dreamers,\n",
       " Oli Oli Oli,\n",
       " Dreamers,\n",
       " Oli Oli Oli,\n",
       " Kabuto,\n",
       " Orochimaru,\n",
       " Orochimaru,\n",
       " Shizune,\n",
       " Orochimaru,\n",
       " Tsunadedo,\n",
       " Tsunade,\n",
       " Tsunade,\n",
       " four,\n",
       " Sannin,\n",
       " Third,\n",
       " four,\n",
       " Kakashi,\n",
       " the Shadow Clone Jutsu.lt’d,\n",
       " Jiraiya,\n",
       " Jiraiya,\n",
       " Tsunade,\n",
       " Jutsu,\n",
       " Jiraiya,\n",
       " Tsunade,\n",
       " the Chunin Exam,\n",
       " Akatsuki,\n",
       " Sannin,\n",
       " Third,\n",
       " Jiraiya,\n",
       " Naruto,\n",
       " Shinobi,\n",
       " Gamatatsu,\n",
       " Gamakichi,\n",
       " first,\n",
       " Jiraiya,\n",
       " Jiraiyaone,\n",
       " Sannin,\n",
       " one,\n",
       " Ninja Art!.Needle Jizo!.Dang,\n",
       " Ninja,\n",
       " Tsunade,\n",
       " Sannin,\n",
       " Orochimaruis,\n",
       " Uchiha,\n",
       " Uchiha,\n",
       " Sharingan,\n",
       " Sharingan,\n",
       " Ninja,\n",
       " Ninja,\n",
       " one,\n",
       " Shinobi,\n",
       " Jutsuone,\n",
       " one,\n",
       " Genin,\n",
       " Geninso,\n",
       " Jiraiya,\n",
       " three daysI’ll,\n",
       " one week,\n",
       " Jutsu,\n",
       " Tsunade,\n",
       " Naruto,\n",
       " tomorrow,\n",
       " Fifth)"
      ]
     },
     "execution_count": 26,
     "metadata": {},
     "output_type": "execute_result"
    }
   ],
   "source": [
    "doc = model(sentence) #requires a string to work\n",
    "doc.ents"
   ]
  },
  {
   "cell_type": "code",
   "execution_count": 27,
   "metadata": {},
   "outputs": [
    {
     "name": "stdout",
     "output_type": "stream",
     "text": [
      "Dreamers NORP\n",
      "Oli Oli Oli PERSON\n",
      "Dreamers NORP\n",
      "Oli Oli Oli PERSON\n",
      "Kabuto PERSON\n",
      "Orochimaru PERSON\n",
      "Orochimaru PERSON\n",
      "Shizune PERSON\n",
      "Orochimaru PERSON\n",
      "Tsunadedo PERSON\n",
      "Tsunade PERSON\n",
      "Tsunade PERSON\n",
      "four CARDINAL\n",
      "Sannin NORP\n",
      "Third ORDINAL\n",
      "four CARDINAL\n",
      "Kakashi PERSON\n",
      "the Shadow Clone Jutsu.lt’d PRODUCT\n",
      "Jiraiya PERSON\n",
      "Jiraiya PERSON\n",
      "Tsunade PERSON\n",
      "Jutsu PERSON\n",
      "Jiraiya PERSON\n",
      "Tsunade PERSON\n",
      "the Chunin Exam EVENT\n",
      "Akatsuki NORP\n",
      "Sannin NORP\n",
      "Third ORDINAL\n",
      "Jiraiya PERSON\n",
      "Naruto PERSON\n",
      "Shinobi NORP\n",
      "Gamatatsu PERSON\n",
      "Gamakichi PERSON\n",
      "first ORDINAL\n",
      "Jiraiya PERSON\n",
      "Jiraiyaone PERSON\n",
      "Sannin NORP\n",
      "one CARDINAL\n",
      "Ninja Art!.Needle Jizo!.Dang PERSON\n",
      "Ninja PERSON\n",
      "Tsunade PERSON\n",
      "Sannin NORP\n",
      "Orochimaruis PERSON\n",
      "Uchiha NORP\n",
      "Uchiha PERSON\n",
      "Sharingan NORP\n",
      "Sharingan NORP\n",
      "Ninja PERSON\n",
      "Ninja PERSON\n",
      "one CARDINAL\n",
      "Shinobi NORP\n",
      "Jutsuone PERSON\n",
      "one CARDINAL\n",
      "Genin NORP\n",
      "Geninso NORP\n",
      "Jiraiya PERSON\n",
      "three daysI’ll DATE\n",
      "one week DATE\n",
      "Jutsu PERSON\n",
      "Tsunade PERSON\n",
      "Naruto PERSON\n",
      "tomorrow DATE\n",
      "Fifth ORDINAL\n"
     ]
    }
   ],
   "source": [
    "for entity in doc.ents:\n",
    "    print(entity, entity.label_)"
   ]
  },
  {
   "cell_type": "code",
   "execution_count": 28,
   "metadata": {},
   "outputs": [],
   "source": [
    "def get_ner(script, model=model):\n",
    "    script_sentences = sent_tokenize(script)\n",
    "    ner_output = []\n",
    "    for sent in script_sentences:\n",
    "        doc = model(sent)\n",
    "        sent_names = set()\n",
    "        for entity in doc.ents:\n",
    "            if entity.label_ == \"PERSON\":\n",
    "                first_name = entity.text.split(\" \")[0]\n",
    "                first_name = first_name.strip()\n",
    "                sent_names.add(first_name) #a name can multiple times in the same sentence, so adding to a set reduced errors\n",
    "        ner_output.append(sent_names)\n",
    "    \n",
    "    return ner_output\n",
    "        \n",
    "            \n",
    "            "
   ]
  },
  {
   "cell_type": "code",
   "execution_count": 65,
   "metadata": {},
   "outputs": [],
   "source": [
    "df = df.head(40)"
   ]
  },
  {
   "cell_type": "code",
   "execution_count": 66,
   "metadata": {},
   "outputs": [
    {
     "data": {
      "text/plain": [
       "(40, 1)"
      ]
     },
     "execution_count": 66,
     "metadata": {},
     "output_type": "execute_result"
    }
   ],
   "source": [
    "df.shape"
   ]
  },
  {
   "cell_type": "code",
   "execution_count": 67,
   "metadata": {},
   "outputs": [
    {
     "name": "stderr",
     "output_type": "stream",
     "text": [
      "/Users/ngkuissi/miniforge3/envs/series_analysis/lib/python3.9/site-packages/thinc/shims/pytorch.py:114: FutureWarning: `torch.cuda.amp.autocast(args...)` is deprecated. Please use `torch.amp.autocast('cuda', args...)` instead.\n",
      "  with torch.cuda.amp.autocast(self._mixed_precision):\n"
     ]
    }
   ],
   "source": [
    "df['ner'] = df['script'].apply(get_ner)"
   ]
  },
  {
   "cell_type": "code",
   "execution_count": 68,
   "metadata": {},
   "outputs": [
    {
     "data": {
      "text/html": [
       "<div>\n",
       "<style scoped>\n",
       "    .dataframe tbody tr th:only-of-type {\n",
       "        vertical-align: middle;\n",
       "    }\n",
       "\n",
       "    .dataframe tbody tr th {\n",
       "        vertical-align: top;\n",
       "    }\n",
       "\n",
       "    .dataframe thead th {\n",
       "        text-align: right;\n",
       "    }\n",
       "</style>\n",
       "<table border=\"1\" class=\"dataframe\">\n",
       "  <thead>\n",
       "    <tr style=\"text-align: right;\">\n",
       "      <th></th>\n",
       "      <th>script</th>\n",
       "      <th>ner</th>\n",
       "    </tr>\n",
       "  </thead>\n",
       "  <tbody>\n",
       "    <tr>\n",
       "      <th>0</th>\n",
       "      <td>We are Fighting Dreamers aiming high\\n Fightin...</td>\n",
       "      <td>[{Oli}, {}, {}, {}, {}, {Oli}, {}, {}, {}, {},...</td>\n",
       "    </tr>\n",
       "    <tr>\n",
       "      <th>1</th>\n",
       "      <td>We are Fighting Dreamers aiming high\\n Fightin...</td>\n",
       "      <td>[{Oli}, {}, {}, {}, {}, {Oli}, {}, {}, {}, {},...</td>\n",
       "    </tr>\n",
       "    <tr>\n",
       "      <th>2</th>\n",
       "      <td>Press down hard on the gas\\n That’s right ther...</td>\n",
       "      <td>[{}, {}, {}, {}, {}, {}, {Lee}, {}, {}, {}, {}...</td>\n",
       "    </tr>\n",
       "    <tr>\n",
       "      <th>3</th>\n",
       "      <td>Rock away your existence\\n Shouting that you a...</td>\n",
       "      <td>[{}, {}, {}, {}, {}, {}, {}, {}, {}, {}, {}, {...</td>\n",
       "    </tr>\n",
       "    <tr>\n",
       "      <th>4</th>\n",
       "      <td>Rock away your existence\\n Shouting that you a...</td>\n",
       "      <td>[{}, {}, {}, {}, {}, {}, {}, {}, {}, {Hinata},...</td>\n",
       "    </tr>\n",
       "  </tbody>\n",
       "</table>\n",
       "</div>"
      ],
      "text/plain": [
       "                                              script  \\\n",
       "0  We are Fighting Dreamers aiming high\\n Fightin...   \n",
       "1  We are Fighting Dreamers aiming high\\n Fightin...   \n",
       "2  Press down hard on the gas\\n That’s right ther...   \n",
       "3  Rock away your existence\\n Shouting that you a...   \n",
       "4  Rock away your existence\\n Shouting that you a...   \n",
       "\n",
       "                                                 ner  \n",
       "0  [{Oli}, {}, {}, {}, {}, {Oli}, {}, {}, {}, {},...  \n",
       "1  [{Oli}, {}, {}, {}, {}, {Oli}, {}, {}, {}, {},...  \n",
       "2  [{}, {}, {}, {}, {}, {}, {Lee}, {}, {}, {}, {}...  \n",
       "3  [{}, {}, {}, {}, {}, {}, {}, {}, {}, {}, {}, {...  \n",
       "4  [{}, {}, {}, {}, {}, {}, {}, {}, {}, {Hinata},...  "
      ]
     },
     "execution_count": 68,
     "metadata": {},
     "output_type": "execute_result"
    }
   ],
   "source": [
    "df.head()"
   ]
  },
  {
   "cell_type": "markdown",
   "metadata": {},
   "source": [
    "### Character Network"
   ]
  },
  {
   "cell_type": "code",
   "execution_count": 69,
   "metadata": {},
   "outputs": [],
   "source": [
    "import pandas as pd\n",
    "import matplotlib.pyplot as plt\n",
    "import networkx as nx\n",
    "from pyvis.network import Network"
   ]
  },
  {
   "cell_type": "code",
   "execution_count": 70,
   "metadata": {},
   "outputs": [],
   "source": [
    "def generate_character(data=df):\n",
    "    window = 10\n",
    "    entity_relationship = []\n",
    "    for row in data['ner']:\n",
    "        previous_entity_in_window = []\n",
    "        \n",
    "        for sentence in row:\n",
    "            previous_entity_in_window.append(list(sentence))\n",
    "            # take the most recent 10 elements\n",
    "            previous_entity_in_window = previous_entity_in_window[-window:]\n",
    "            \n",
    "            # Flatten 2D List into 1D List\n",
    "            previous_entities_flattened = sum(previous_entity_in_window, [])  \n",
    "            \n",
    "            for entity in sentence:\n",
    "                for subject in previous_entities_flattened:\n",
    "                    if entity != subject:\n",
    "                        entity_relationship.append(sorted([entity, subject]))\n",
    "    \n",
    "    relationship_df = pd.DataFrame({'value': entity_relationship})\n",
    "    relationship_df['source'] = relationship_df['value'].apply(lambda x: x[0])\n",
    "    relationship_df['target'] = relationship_df['value'].apply(lambda x: x[1])\n",
    "    relationship_df = relationship_df.groupby(['source', 'target']).count().reset_index()\n",
    "    relationship_df = relationship_df.sort_values('value', ascending = False)\n",
    "    return relationship_df\n",
    "    "
   ]
  },
  {
   "cell_type": "code",
   "execution_count": 71,
   "metadata": {},
   "outputs": [],
   "source": [
    "relationship_df = generate_character()"
   ]
  },
  {
   "cell_type": "code",
   "execution_count": 74,
   "metadata": {},
   "outputs": [
    {
     "data": {
      "text/html": [
       "<div>\n",
       "<style scoped>\n",
       "    .dataframe tbody tr th:only-of-type {\n",
       "        vertical-align: middle;\n",
       "    }\n",
       "\n",
       "    .dataframe tbody tr th {\n",
       "        vertical-align: top;\n",
       "    }\n",
       "\n",
       "    .dataframe thead th {\n",
       "        text-align: right;\n",
       "    }\n",
       "</style>\n",
       "<table border=\"1\" class=\"dataframe\">\n",
       "  <thead>\n",
       "    <tr style=\"text-align: right;\">\n",
       "      <th></th>\n",
       "      <th>source</th>\n",
       "      <th>target</th>\n",
       "      <th>value</th>\n",
       "    </tr>\n",
       "  </thead>\n",
       "  <tbody>\n",
       "    <tr>\n",
       "      <th>530</th>\n",
       "      <td>Intense</td>\n",
       "      <td>Lee</td>\n",
       "      <td>1</td>\n",
       "    </tr>\n",
       "    <tr>\n",
       "      <th>533</th>\n",
       "      <td>Intense</td>\n",
       "      <td>roger</td>\n",
       "      <td>1</td>\n",
       "    </tr>\n",
       "    <tr>\n",
       "      <th>534</th>\n",
       "      <td>Intense</td>\n",
       "      <td>thatBushy</td>\n",
       "      <td>1</td>\n",
       "    </tr>\n",
       "    <tr>\n",
       "      <th>535</th>\n",
       "      <td>Iruka</td>\n",
       "      <td>Kabuto</td>\n",
       "      <td>1</td>\n",
       "    </tr>\n",
       "    <tr>\n",
       "      <th>605</th>\n",
       "      <td>Jiraiya</td>\n",
       "      <td>Toad</td>\n",
       "      <td>1</td>\n",
       "    </tr>\n",
       "  </tbody>\n",
       "</table>\n",
       "</div>"
      ],
      "text/plain": [
       "      source     target  value\n",
       "530  Intense        Lee      1\n",
       "533  Intense      roger      1\n",
       "534  Intense  thatBushy      1\n",
       "535    Iruka     Kabuto      1\n",
       "605  Jiraiya       Toad      1"
      ]
     },
     "execution_count": 74,
     "metadata": {},
     "output_type": "execute_result"
    }
   ],
   "source": [
    "relationship_df.tail()"
   ]
  },
  {
   "cell_type": "code",
   "execution_count": 73,
   "metadata": {},
   "outputs": [
    {
     "name": "stdout",
     "output_type": "stream",
     "text": [
      "anime.html\n"
     ]
    },
    {
     "data": {
      "text/html": [
       "\n",
       "        <iframe\n",
       "            width=\"1000px\"\n",
       "            height=\"700px\"\n",
       "            src=\"anime.html\"\n",
       "            frameborder=\"0\"\n",
       "            allowfullscreen\n",
       "            \n",
       "        ></iframe>\n",
       "        "
      ],
      "text/plain": [
       "<IPython.lib.display.IFrame at 0x33ac2f940>"
      ]
     },
     "execution_count": 73,
     "metadata": {},
     "output_type": "execute_result"
    }
   ],
   "source": [
    "G = nx.from_pandas_edgelist(\n",
    "    relationship_df,\n",
    "    source=\"source\",\n",
    "    target=\"target\",\n",
    "    edge_attr=\"value\",\n",
    "    create_using=nx.Graph()\n",
    ")\n",
    "net = Network(notebook=True, width='1000px', height=\"700px\", bgcolor=\"#222222\", font_color=\"white\", cdn_resources=\"remote\")\n",
    "node_degree = dict(G.degree)\n",
    "\n",
    "nx.set_node_attributes(G, node_degree, \"size\")\n",
    "net.from_nx(G)\n",
    "net.show(\"anime.html\")\n",
    "\n"
   ]
  },
  {
   "cell_type": "code",
   "execution_count": null,
   "metadata": {},
   "outputs": [],
   "source": []
  },
  {
   "cell_type": "code",
   "execution_count": null,
   "metadata": {},
   "outputs": [],
   "source": []
  },
  {
   "cell_type": "code",
   "execution_count": null,
   "metadata": {},
   "outputs": [],
   "source": []
  },
  {
   "cell_type": "code",
   "execution_count": null,
   "metadata": {},
   "outputs": [],
   "source": []
  },
  {
   "cell_type": "code",
   "execution_count": null,
   "metadata": {},
   "outputs": [],
   "source": []
  }
 ],
 "metadata": {
  "kernelspec": {
   "display_name": "series_analysis",
   "language": "python",
   "name": "python3"
  },
  "language_info": {
   "codemirror_mode": {
    "name": "ipython",
    "version": 3
   },
   "file_extension": ".py",
   "mimetype": "text/x-python",
   "name": "python",
   "nbconvert_exporter": "python",
   "pygments_lexer": "ipython3",
   "version": "3.9.20"
  }
 },
 "nbformat": 4,
 "nbformat_minor": 2
}
