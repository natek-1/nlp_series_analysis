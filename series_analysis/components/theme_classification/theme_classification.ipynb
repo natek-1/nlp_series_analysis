{
 "cells": [
  {
   "cell_type": "markdown",
   "metadata": {},
   "source": [
    "# Import"
   ]
  },
  {
   "cell_type": "code",
   "execution_count": 2,
   "metadata": {},
   "outputs": [
    {
     "name": "stderr",
     "output_type": "stream",
     "text": [
      "/Users/ngkuissi/miniforge3/envs/series_analysis/lib/python3.9/site-packages/tqdm/auto.py:21: TqdmWarning: IProgress not found. Please update jupyter and ipywidgets. See https://ipywidgets.readthedocs.io/en/stable/user_install.html\n",
      "  from .autonotebook import tqdm as notebook_tqdm\n"
     ]
    }
   ],
   "source": [
    "import pandas as pd\n",
    "import numpy as np\n",
    "import torch\n",
    "from transformers import pipeline\n",
    "from nltk import sent_tokenize\n",
    "from glob import glob\n",
    "import warnings\n",
    "warnings.filterwarnings('ignore')\n"
   ]
  },
  {
   "cell_type": "markdown",
   "metadata": {},
   "source": [
    "# Load the model"
   ]
  },
  {
   "cell_type": "code",
   "execution_count": 3,
   "metadata": {},
   "outputs": [],
   "source": [
    "model_name = \"facebook/bart-large-mnli\"\n",
    "device = \"cpu\"\n",
    "if torch.cuda.is_available():\n",
    "    device = \"cuda\"\n",
    "elif torch.backends.mps.is_available():\n",
    "    device = \"mps\""
   ]
  },
  {
   "cell_type": "code",
   "execution_count": 4,
   "metadata": {},
   "outputs": [],
   "source": [
    "def load_model(device=\"cpu\", model_name=model_name):\n",
    "    theme_classifier = pipeline(\n",
    "        task=\"zero-shot-classification\",\n",
    "        model=model_name,\n",
    "        device=device\n",
    "    )\n",
    "    return theme_classifier"
   ]
  },
  {
   "cell_type": "code",
   "execution_count": 5,
   "metadata": {},
   "outputs": [],
   "source": [
    "theme_classifier = load_model(device=device)"
   ]
  },
  {
   "cell_type": "code",
   "execution_count": 6,
   "metadata": {},
   "outputs": [],
   "source": [
    "theme_list = [\"friendship\",\"hope\",\"sacrifice\",\"battle\",\"self development\",\"betrayal\",\"love\",\"dialogue\", \"pain\", \"hatred\", \"dream\", \"hard work\", \"war\"]"
   ]
  },
  {
   "cell_type": "code",
   "execution_count": 8,
   "metadata": {},
   "outputs": [
    {
     "data": {
      "text/plain": [
       "{'sequence': 'I gave him a right hook then a left jab',\n",
       " 'labels': ['battle',\n",
       "  'hard work',\n",
       "  'self development',\n",
       "  'pain',\n",
       "  'war',\n",
       "  'hope',\n",
       "  'hatred',\n",
       "  'dream',\n",
       "  'sacrifice',\n",
       "  'dialogue',\n",
       "  'betrayal',\n",
       "  'love',\n",
       "  'friendship'],\n",
       " 'scores': [0.9121251702308655,\n",
       "  0.6919595003128052,\n",
       "  0.4749987721443176,\n",
       "  0.4389338493347168,\n",
       "  0.35820794105529785,\n",
       "  0.08781738579273224,\n",
       "  0.0643683597445488,\n",
       "  0.04519854485988617,\n",
       "  0.04500005766749382,\n",
       "  0.020132755860686302,\n",
       "  0.012040241621434689,\n",
       "  0.0042922901920974255,\n",
       "  0.0028172011952847242]}"
      ]
     },
     "execution_count": 8,
     "metadata": {},
     "output_type": "execute_result"
    }
   ],
   "source": [
    "classification = theme_classifier(\n",
    "    \"I gave him a right hook then a left jab\",\n",
    "    theme_list,\n",
    "    multi_label=True\n",
    ")\n",
    "classification"
   ]
  },
  {
   "cell_type": "code",
   "execution_count": 11,
   "metadata": {},
   "outputs": [
    {
     "data": {
      "text/plain": [
       "[0.9121251702308655,\n",
       " 0.6919595003128052,\n",
       " 0.4749987721443176,\n",
       " 0.4389338493347168,\n",
       " 0.35820794105529785,\n",
       " 0.08781738579273224,\n",
       " 0.0643683597445488,\n",
       " 0.04519854485988617,\n",
       " 0.04500005766749382,\n",
       " 0.020132755860686302,\n",
       " 0.012040241621434689,\n",
       " 0.0042922901920974255,\n",
       " 0.0028172011952847242]"
      ]
     },
     "execution_count": 11,
     "metadata": {},
     "output_type": "execute_result"
    }
   ],
   "source": [
    "classification['scores']"
   ]
  },
  {
   "cell_type": "markdown",
   "metadata": {},
   "source": [
    "# Working with our dataset"
   ]
  },
  {
   "cell_type": "code",
   "execution_count": 12,
   "metadata": {},
   "outputs": [
    {
     "data": {
      "text/plain": [
       "['../data/subtitles/Naruto Season 4 - 94.ass',\n",
       " '../data/subtitles/Naruto Season 4 - 80.ass',\n",
       " '../data/subtitles/Naruto Season 2 - 32.ass',\n",
       " '../data/subtitles/Naruto Season 8 - 185.ass',\n",
       " '../data/subtitles/Naruto Season 8 - 191.ass']"
      ]
     },
     "execution_count": 12,
     "metadata": {},
     "output_type": "execute_result"
    }
   ],
   "source": [
    "files = glob(\"../data/subtitles/*.ass\")\n",
    "files[:5]"
   ]
  },
  {
   "cell_type": "code",
   "execution_count": 13,
   "metadata": {},
   "outputs": [],
   "source": [
    "with open(files[0], \"r\") as file:\n",
    "    lines = file.readlines()\n",
    "    lines = lines[27:] # read only the lines after the metadata\n",
    "    lines = [line.split(\",\")[9:] for line in lines] # remove all data with that is not part of the text column\n",
    "    # some sentences may have , and we don't want a 2d list \n",
    "    lines = [\"\".join(line) for line in lines] # we will combine this in the main file"
   ]
  },
  {
   "cell_type": "code",
   "execution_count": 14,
   "metadata": {},
   "outputs": [
    {
     "data": {
      "text/plain": [
       "['We are Fighting Dreamers aiming high\\n',\n",
       " \"Fighting Dreamers\\\\Ndon't care what people think about them\\n\",\n",
       " 'Fighting Dreamers\\\\Nfollow what they believe\\n',\n",
       " 'Oli Oli Oli Oh! Just go my way\\n',\n",
       " 'Right here right now (Bang)\\\\NHit it straight like a line drive!\\n',\n",
       " 'Right here right now (Burn)\\n',\n",
       " 'Down a difficult road\\\\Nfilled with endless struggles\\n',\n",
       " \"Where do you think you are going\\\\Nfollowing someone else's map?\\n\",\n",
       " 'An insightful crow comes along\\\\Nto tear up the map\\n',\n",
       " 'Now open your eyes and\\\\Ntake a look at the truth (Yeah!)\\n']"
      ]
     },
     "execution_count": 14,
     "metadata": {},
     "output_type": "execute_result"
    }
   ],
   "source": [
    "lines[:10]"
   ]
  },
  {
   "cell_type": "markdown",
   "metadata": {},
   "source": [
    "*Note:* looks good however we have \\\\N character showing up"
   ]
  },
  {
   "cell_type": "code",
   "execution_count": 17,
   "metadata": {},
   "outputs": [],
   "source": [
    "lines = [line.replace('\\\\N', '') for line in lines]"
   ]
  },
  {
   "cell_type": "code",
   "execution_count": 18,
   "metadata": {},
   "outputs": [
    {
     "name": "stdout",
     "output_type": "stream",
     "text": [
      "We are Fighting Dreamers aiming high\n",
      " Fighting Dreamersdon't care what people think about them\n",
      " Fighting Dreamersfollow what they believe\n",
      " Oli Oli Oli Oh! Just go my way\n",
      " Right here right now (Bang)Hit it straight like a line drive!\n",
      " Right here right now (Burn)\n",
      " Down a difficult roadfilled with endless struggles\n",
      " Where do you think you are goingfollowing someone else's map?\n",
      " An insightful crow comes alongto tear up the map\n",
      " Now open your eyes andtake a look at the truth (Yeah!)\n",
      "\n"
     ]
    }
   ],
   "source": [
    "print(\" \".join(lines[:10]))"
   ]
  },
  {
   "cell_type": "markdown",
   "metadata": {},
   "source": [
    "*Good*: now let us work with anotating the episode in question"
   ]
  },
  {
   "cell_type": "code",
   "execution_count": 19,
   "metadata": {},
   "outputs": [
    {
     "data": {
      "text/plain": [
       "'../data/subtitles/Naruto Season 2 - 32.ass'"
      ]
     },
     "execution_count": 19,
     "metadata": {},
     "output_type": "execute_result"
    }
   ],
   "source": [
    "files[2]"
   ]
  },
  {
   "cell_type": "code",
   "execution_count": 20,
   "metadata": {},
   "outputs": [
    {
     "data": {
      "text/plain": [
       "32"
      ]
     },
     "execution_count": 20,
     "metadata": {},
     "output_type": "execute_result"
    }
   ],
   "source": [
    "int(files[2].split('-')[-1].split('.')[0].strip())"
   ]
  },
  {
   "cell_type": "code",
   "execution_count": 22,
   "metadata": {},
   "outputs": [],
   "source": [
    "def load_subtitles_dataset(dataset_path=\"../data/subtitles/\"):\n",
    "    subtitles_data = glob(dataset_path+\"/*.ass\")\n",
    "    \n",
    "    scripts = []\n",
    "    #episode_nums = []\n",
    "    \n",
    "    for path in subtitles_data:\n",
    "        \n",
    "        # read file\n",
    "        with open(path, \"r\") as file:\n",
    "            lines = file.readlines()\n",
    "            \n",
    "        lines = lines[27:]\n",
    "        lines = [line.split(\",\")[9:] for line in lines]\n",
    "        lines = [\"\".join(line) for line in lines]\n",
    "        lines = [line.replace('\\\\N', '') for line in lines]\n",
    "        script = \" \".join(lines)\n",
    "        scripts.append(script)\n",
    "        \n",
    "        # getting the episode in question\n",
    "        #episode_num = int(path.split('-')[-1].split('.')[0].strip())\n",
    "        #episode_nums.append(episode_num)\n",
    "    \n",
    "    df = pd.DataFrame.from_dict({\"script\": scripts})\n",
    "    return df"
   ]
  },
  {
   "cell_type": "code",
   "execution_count": 27,
   "metadata": {},
   "outputs": [],
   "source": [
    "df = load_subtitles_dataset()"
   ]
  },
  {
   "cell_type": "code",
   "execution_count": 28,
   "metadata": {},
   "outputs": [
    {
     "data": {
      "text/html": [
       "<div>\n",
       "<style scoped>\n",
       "    .dataframe tbody tr th:only-of-type {\n",
       "        vertical-align: middle;\n",
       "    }\n",
       "\n",
       "    .dataframe tbody tr th {\n",
       "        vertical-align: top;\n",
       "    }\n",
       "\n",
       "    .dataframe thead th {\n",
       "        text-align: right;\n",
       "    }\n",
       "</style>\n",
       "<table border=\"1\" class=\"dataframe\">\n",
       "  <thead>\n",
       "    <tr style=\"text-align: right;\">\n",
       "      <th></th>\n",
       "      <th>script</th>\n",
       "    </tr>\n",
       "  </thead>\n",
       "  <tbody>\n",
       "    <tr>\n",
       "      <th>0</th>\n",
       "      <td>We are Fighting Dreamers aiming high\\n Fightin...</td>\n",
       "    </tr>\n",
       "    <tr>\n",
       "      <th>1</th>\n",
       "      <td>We are Fighting Dreamers aiming high\\n Fightin...</td>\n",
       "    </tr>\n",
       "    <tr>\n",
       "      <th>2</th>\n",
       "      <td>Press down hard on the gas\\n That’s right ther...</td>\n",
       "    </tr>\n",
       "    <tr>\n",
       "      <th>3</th>\n",
       "      <td>Rock away your existence\\n Shouting that you a...</td>\n",
       "    </tr>\n",
       "    <tr>\n",
       "      <th>4</th>\n",
       "      <td>Rock away your existence\\n Shouting that you a...</td>\n",
       "    </tr>\n",
       "    <tr>\n",
       "      <th>5</th>\n",
       "      <td>Rock away your existence\\n Shouting that you a...</td>\n",
       "    </tr>\n",
       "    <tr>\n",
       "      <th>6</th>\n",
       "      <td>Rock away your existence\\n Shouting that you a...</td>\n",
       "    </tr>\n",
       "    <tr>\n",
       "      <th>7</th>\n",
       "      <td>Press down hard on the gas\\n That’s right ther...</td>\n",
       "    </tr>\n",
       "    <tr>\n",
       "      <th>8</th>\n",
       "      <td>Press down hard on the gas\\n That’s right ther...</td>\n",
       "    </tr>\n",
       "    <tr>\n",
       "      <th>9</th>\n",
       "      <td>We are Fighting Dreamers aiming high\\n Fightin...</td>\n",
       "    </tr>\n",
       "  </tbody>\n",
       "</table>\n",
       "</div>"
      ],
      "text/plain": [
       "                                              script\n",
       "0  We are Fighting Dreamers aiming high\\n Fightin...\n",
       "1  We are Fighting Dreamers aiming high\\n Fightin...\n",
       "2  Press down hard on the gas\\n That’s right ther...\n",
       "3  Rock away your existence\\n Shouting that you a...\n",
       "4  Rock away your existence\\n Shouting that you a...\n",
       "5  Rock away your existence\\n Shouting that you a...\n",
       "6  Rock away your existence\\n Shouting that you a...\n",
       "7  Press down hard on the gas\\n That’s right ther...\n",
       "8  Press down hard on the gas\\n That’s right ther...\n",
       "9  We are Fighting Dreamers aiming high\\n Fightin..."
      ]
     },
     "execution_count": 28,
     "metadata": {},
     "output_type": "execute_result"
    }
   ],
   "source": [
    "df.head(10)"
   ]
  },
  {
   "cell_type": "markdown",
   "metadata": {},
   "source": [
    "## Test the model"
   ]
  },
  {
   "cell_type": "code",
   "execution_count": 32,
   "metadata": {},
   "outputs": [],
   "source": [
    "script = df.iloc[2][\"script\"]"
   ]
  },
  {
   "cell_type": "code",
   "execution_count": null,
   "metadata": {},
   "outputs": [],
   "source": []
  },
  {
   "cell_type": "code",
   "execution_count": 50,
   "metadata": {},
   "outputs": [
    {
     "data": {
      "text/plain": [
       "'!'"
      ]
     },
     "execution_count": 50,
     "metadata": {},
     "output_type": "execute_result"
    }
   ],
   "source": [
    "script_sentences = sent_tokenize(script)\n",
    "script_sentences[-1]\n"
   ]
  },
  {
   "cell_type": "code",
   "execution_count": 34,
   "metadata": {},
   "outputs": [
    {
     "name": "stdout",
     "output_type": "stream",
     "text": [
      "225\n"
     ]
    }
   ],
   "source": [
    "print(len(script_sentences))"
   ]
  },
  {
   "cell_type": "code",
   "execution_count": 51,
   "metadata": {},
   "outputs": [],
   "source": [
    "# create batces of sentences\n",
    "sentence_batch = 32\n",
    "script_batches = []\n",
    "for index in range(0, len(script_sentences), sentence_batch):\n",
    "    sent = \"\"\n",
    "    if index+sentence_batch <= len(script_sentences): \n",
    "        sent = \" \".join(script_sentences[index:index+sentence_batch])\n",
    "    else:\n",
    "        sent = \" \".join(script_sentences[index:]) # take last element in the batch\n",
    "    script_batches.append(sent)\n"
   ]
  },
  {
   "cell_type": "code",
   "execution_count": 52,
   "metadata": {},
   "outputs": [],
   "source": [
    "model_name = \"facebook/bart-large-mnli\"\n",
    "def load_model(device=\"cpu\", model_name=model_name):\n",
    "    theme_classifier = pipeline(\n",
    "        task=\"zero-shot-classification\",\n",
    "        model=model_name,\n",
    "        device=device\n",
    "    )\n",
    "    return theme_classifier"
   ]
  },
  {
   "cell_type": "code",
   "execution_count": 53,
   "metadata": {},
   "outputs": [],
   "source": [
    "device = \"cpu\"\n",
    "if torch.cuda.is_available():\n",
    "    device = \"cuda\"\n",
    "elif torch.backends.mps.is_available():\n",
    "    device = \"mps\"\n",
    "theme_list = [\"friendship\",\"hope\",\"sacrifice\",\"battle\",\"self development\",\"betrayal\",\"love\",\"dialogue\", \"pain\", \"hatred\", \"dream\", \"hard work\", \"war\"]"
   ]
  },
  {
   "cell_type": "code",
   "execution_count": 54,
   "metadata": {},
   "outputs": [
    {
     "data": {
      "text/plain": [
       "8"
      ]
     },
     "execution_count": 54,
     "metadata": {},
     "output_type": "execute_result"
    }
   ],
   "source": [
    "len(script_batches)"
   ]
  },
  {
   "cell_type": "code",
   "execution_count": 55,
   "metadata": {},
   "outputs": [],
   "source": [
    "theme_classifier = load_model(device=device)\n",
    "theme_output = theme_classifier(\n",
    "    script_batches,\n",
    "    theme_list,\n",
    "    multi_label=True\n",
    ")"
   ]
  },
  {
   "cell_type": "code",
   "execution_count": 58,
   "metadata": {},
   "outputs": [
    {
     "data": {
      "text/plain": [
       "{'sequence': 'With such a simple and basic Ninjutsu...\\n you think you can come at me?! Kin get out of the way! Useless! Air pressure 100 percentultrasonic waves 0% output...\\n Is that all you can do? Slicing Sound Wave! You’re easy to spot...\\n You’re above! I’ve said it two or three times thatthat won’t work! This is enough... for you! Where next? Huh?! What...?! This time... it’s not a substitution! Get off me! Hey! Sakura...\\n You’re always being called“Billboard Brow” and being picked on. Who’re you? I’m called Ino Yamanaka.How ‘bout you? I’m... Sakura. Huh? I can’t hear you.Say it louder. Sakura Haruno! Huh I see. You have a wide forehead. So Billboard Brow huh...? That’s why you hideyour forehead with your bangs. Like a ghost...\\n Sakura was it? Uh-huh...\\n Come back here tomorrow. I’ll give you something nice. Huh? Darn let go! See! You look cuter like this Sakura!',\n",
       " 'labels': ['dialogue',\n",
       "  'friendship',\n",
       "  'self development',\n",
       "  'battle',\n",
       "  'hard work',\n",
       "  'hope',\n",
       "  'love',\n",
       "  'pain',\n",
       "  'sacrifice',\n",
       "  'war',\n",
       "  'hatred',\n",
       "  'dream',\n",
       "  'betrayal'],\n",
       " 'scores': [0.9287312626838684,\n",
       "  0.8714464902877808,\n",
       "  0.8632565140724182,\n",
       "  0.858173668384552,\n",
       "  0.8451656103134155,\n",
       "  0.6047986149787903,\n",
       "  0.5118775367736816,\n",
       "  0.5094701051712036,\n",
       "  0.49435722827911377,\n",
       "  0.42419713735580444,\n",
       "  0.41566455364227295,\n",
       "  0.2699606716632843,\n",
       "  0.22722017765045166]}"
      ]
     },
     "execution_count": 58,
     "metadata": {},
     "output_type": "execute_result"
    }
   ],
   "source": [
    "theme_output[4]"
   ]
  },
  {
   "cell_type": "code",
   "execution_count": 59,
   "metadata": {},
   "outputs": [],
   "source": [
    "# get all the outputs together\n",
    "# for Example\n",
    "# battle: [0.4, 0.65]\n",
    "themes_probs = {}\n",
    "for output in theme_output:\n",
    "    for label,score in zip(output['labels'], output[\"scores\"]):\n",
    "        themes_probs[label] = [score] + themes_probs.get(label, [])"
   ]
  },
  {
   "cell_type": "code",
   "execution_count": 60,
   "metadata": {},
   "outputs": [],
   "source": [
    "themes_prob = {key: np.mean(np.array(value)) for key,value in themes_probs.items()}"
   ]
  },
  {
   "cell_type": "code",
   "execution_count": 61,
   "metadata": {},
   "outputs": [
    {
     "data": {
      "text/plain": [
       "{'hard work': 0.8587061613798141,\n",
       " 'hope': 0.5133965294808149,\n",
       " 'sacrifice': 0.7477323077619076,\n",
       " 'battle': 0.8607199266552925,\n",
       " 'dream': 0.5781897082924843,\n",
       " 'self development': 0.7899001613259315,\n",
       " 'love': 0.3773640119470656,\n",
       " 'war': 0.580585302785039,\n",
       " 'dialogue': 0.8418986573815346,\n",
       " 'pain': 0.5758563932031393,\n",
       " 'friendship': 0.5428784536197782,\n",
       " 'hatred': 0.35366878379136324,\n",
       " 'betrayal': 0.5415903478860855}"
      ]
     },
     "execution_count": 61,
     "metadata": {},
     "output_type": "execute_result"
    }
   ],
   "source": [
    "themes_prob"
   ]
  },
  {
   "cell_type": "code",
   "execution_count": 63,
   "metadata": {},
   "outputs": [],
   "source": [
    "def get_themes_inference(script):\n",
    "    script_sentences = sent_tokenize(script)\n",
    "    \n",
    "    # batch Sentences\n",
    "    sentence_batch = 32\n",
    "    script_batches = []\n",
    "    for index in range(0, len(script_sentences), sentence_batch):\n",
    "        sent = \"\"\n",
    "        if index+sentence_batch <= len(script_sentences): \n",
    "            sent = \" \".join(script_sentences[index:index+sentence_batch])\n",
    "        else:\n",
    "            sent = \" \".join(script_sentences[index:])\n",
    "        script_batches.append(sent)\n",
    "    \n",
    "    # Run model\n",
    "    theme_output = theme_classifier( \n",
    "        script_batches[:2], # for the purposes of this notebook we only focus on the first 10 however, in the main file we will work without all the data\n",
    "        theme_list,\n",
    "        multi_label=True\n",
    "    )\n",
    "    # join output \n",
    "    themes_probs = {}\n",
    "    for output in theme_output:\n",
    "        for label,score in zip(output['labels'], output[\"scores\"]):\n",
    "            themes_probs[label] = [score] + themes_probs.get(label, [])\n",
    "    \n",
    "    themes_prob = {key: np.mean(np.array(value)) for key,value in themes_probs.items()}\n",
    "    \n",
    "    return themes_prob\n",
    "    "
   ]
  },
  {
   "cell_type": "code",
   "execution_count": 64,
   "metadata": {},
   "outputs": [
    {
     "data": {
      "text/html": [
       "<div>\n",
       "<style scoped>\n",
       "    .dataframe tbody tr th:only-of-type {\n",
       "        vertical-align: middle;\n",
       "    }\n",
       "\n",
       "    .dataframe tbody tr th {\n",
       "        vertical-align: top;\n",
       "    }\n",
       "\n",
       "    .dataframe thead th {\n",
       "        text-align: right;\n",
       "    }\n",
       "</style>\n",
       "<table border=\"1\" class=\"dataframe\">\n",
       "  <thead>\n",
       "    <tr style=\"text-align: right;\">\n",
       "      <th></th>\n",
       "      <th>script</th>\n",
       "    </tr>\n",
       "  </thead>\n",
       "  <tbody>\n",
       "    <tr>\n",
       "      <th>0</th>\n",
       "      <td>We are Fighting Dreamers aiming high\\n Fightin...</td>\n",
       "    </tr>\n",
       "    <tr>\n",
       "      <th>1</th>\n",
       "      <td>We are Fighting Dreamers aiming high\\n Fightin...</td>\n",
       "    </tr>\n",
       "    <tr>\n",
       "      <th>2</th>\n",
       "      <td>Press down hard on the gas\\n That’s right ther...</td>\n",
       "    </tr>\n",
       "    <tr>\n",
       "      <th>3</th>\n",
       "      <td>Rock away your existence\\n Shouting that you a...</td>\n",
       "    </tr>\n",
       "    <tr>\n",
       "      <th>4</th>\n",
       "      <td>Rock away your existence\\n Shouting that you a...</td>\n",
       "    </tr>\n",
       "  </tbody>\n",
       "</table>\n",
       "</div>"
      ],
      "text/plain": [
       "                                              script\n",
       "0  We are Fighting Dreamers aiming high\\n Fightin...\n",
       "1  We are Fighting Dreamers aiming high\\n Fightin...\n",
       "2  Press down hard on the gas\\n That’s right ther...\n",
       "3  Rock away your existence\\n Shouting that you a...\n",
       "4  Rock away your existence\\n Shouting that you a..."
      ]
     },
     "execution_count": 64,
     "metadata": {},
     "output_type": "execute_result"
    }
   ],
   "source": [
    "df.head()"
   ]
  },
  {
   "cell_type": "code",
   "execution_count": 65,
   "metadata": {},
   "outputs": [],
   "source": [
    "output_themes = df.head()['script'].apply(get_themes_inference)"
   ]
  },
  {
   "cell_type": "code",
   "execution_count": 66,
   "metadata": {},
   "outputs": [
    {
     "data": {
      "text/plain": [
       "0    {'hard work': 0.9503165483474731, 'betrayal': ...\n",
       "1    {'hard work': 0.9642726182937622, 'battle': 0....\n",
       "2    {'hard work': 0.9463073313236237, 'hope': 0.63...\n",
       "3    {'dialogue': 0.9177160263061523, 'hard work': ...\n",
       "4    {'pain': 0.8051088154315948, 'self development...\n",
       "Name: script, dtype: object"
      ]
     },
     "execution_count": 66,
     "metadata": {},
     "output_type": "execute_result"
    }
   ],
   "source": [
    "output_themes"
   ]
  },
  {
   "cell_type": "code",
   "execution_count": 67,
   "metadata": {},
   "outputs": [],
   "source": [
    "theme_df = pd.DataFrame(output_themes.tolist())"
   ]
  },
  {
   "cell_type": "code",
   "execution_count": 68,
   "metadata": {},
   "outputs": [
    {
     "data": {
      "text/html": [
       "<div>\n",
       "<style scoped>\n",
       "    .dataframe tbody tr th:only-of-type {\n",
       "        vertical-align: middle;\n",
       "    }\n",
       "\n",
       "    .dataframe tbody tr th {\n",
       "        vertical-align: top;\n",
       "    }\n",
       "\n",
       "    .dataframe thead th {\n",
       "        text-align: right;\n",
       "    }\n",
       "</style>\n",
       "<table border=\"1\" class=\"dataframe\">\n",
       "  <thead>\n",
       "    <tr style=\"text-align: right;\">\n",
       "      <th></th>\n",
       "      <th>hard work</th>\n",
       "      <th>betrayal</th>\n",
       "      <th>battle</th>\n",
       "      <th>dialogue</th>\n",
       "      <th>war</th>\n",
       "      <th>sacrifice</th>\n",
       "      <th>self development</th>\n",
       "      <th>pain</th>\n",
       "      <th>dream</th>\n",
       "      <th>hatred</th>\n",
       "      <th>hope</th>\n",
       "      <th>friendship</th>\n",
       "      <th>love</th>\n",
       "    </tr>\n",
       "  </thead>\n",
       "  <tbody>\n",
       "    <tr>\n",
       "      <th>0</th>\n",
       "      <td>0.950317</td>\n",
       "      <td>0.919255</td>\n",
       "      <td>0.961080</td>\n",
       "      <td>0.863835</td>\n",
       "      <td>0.882135</td>\n",
       "      <td>0.908269</td>\n",
       "      <td>0.751922</td>\n",
       "      <td>0.656352</td>\n",
       "      <td>0.340699</td>\n",
       "      <td>0.527435</td>\n",
       "      <td>0.183369</td>\n",
       "      <td>0.104728</td>\n",
       "      <td>0.049290</td>\n",
       "    </tr>\n",
       "    <tr>\n",
       "      <th>1</th>\n",
       "      <td>0.964273</td>\n",
       "      <td>0.628449</td>\n",
       "      <td>0.839320</td>\n",
       "      <td>0.867101</td>\n",
       "      <td>0.640021</td>\n",
       "      <td>0.671815</td>\n",
       "      <td>0.756013</td>\n",
       "      <td>0.866784</td>\n",
       "      <td>0.455585</td>\n",
       "      <td>0.493695</td>\n",
       "      <td>0.081513</td>\n",
       "      <td>0.093187</td>\n",
       "      <td>0.056692</td>\n",
       "    </tr>\n",
       "    <tr>\n",
       "      <th>2</th>\n",
       "      <td>0.946307</td>\n",
       "      <td>0.480935</td>\n",
       "      <td>0.910728</td>\n",
       "      <td>0.804208</td>\n",
       "      <td>0.683933</td>\n",
       "      <td>0.813866</td>\n",
       "      <td>0.753840</td>\n",
       "      <td>0.749233</td>\n",
       "      <td>0.816658</td>\n",
       "      <td>0.360889</td>\n",
       "      <td>0.635667</td>\n",
       "      <td>0.708908</td>\n",
       "      <td>0.449132</td>\n",
       "    </tr>\n",
       "    <tr>\n",
       "      <th>3</th>\n",
       "      <td>0.838509</td>\n",
       "      <td>0.331138</td>\n",
       "      <td>0.406944</td>\n",
       "      <td>0.917716</td>\n",
       "      <td>0.140688</td>\n",
       "      <td>0.580790</td>\n",
       "      <td>0.825880</td>\n",
       "      <td>0.663340</td>\n",
       "      <td>0.280936</td>\n",
       "      <td>0.084667</td>\n",
       "      <td>0.187405</td>\n",
       "      <td>0.581278</td>\n",
       "      <td>0.175452</td>\n",
       "    </tr>\n",
       "    <tr>\n",
       "      <th>4</th>\n",
       "      <td>0.928600</td>\n",
       "      <td>0.939418</td>\n",
       "      <td>0.862218</td>\n",
       "      <td>0.927940</td>\n",
       "      <td>0.660728</td>\n",
       "      <td>0.873519</td>\n",
       "      <td>0.886586</td>\n",
       "      <td>0.805109</td>\n",
       "      <td>0.431537</td>\n",
       "      <td>0.414088</td>\n",
       "      <td>0.397373</td>\n",
       "      <td>0.537138</td>\n",
       "      <td>0.343116</td>\n",
       "    </tr>\n",
       "  </tbody>\n",
       "</table>\n",
       "</div>"
      ],
      "text/plain": [
       "   hard work  betrayal    battle  dialogue       war  sacrifice  \\\n",
       "0   0.950317  0.919255  0.961080  0.863835  0.882135   0.908269   \n",
       "1   0.964273  0.628449  0.839320  0.867101  0.640021   0.671815   \n",
       "2   0.946307  0.480935  0.910728  0.804208  0.683933   0.813866   \n",
       "3   0.838509  0.331138  0.406944  0.917716  0.140688   0.580790   \n",
       "4   0.928600  0.939418  0.862218  0.927940  0.660728   0.873519   \n",
       "\n",
       "   self development      pain     dream    hatred      hope  friendship  \\\n",
       "0          0.751922  0.656352  0.340699  0.527435  0.183369    0.104728   \n",
       "1          0.756013  0.866784  0.455585  0.493695  0.081513    0.093187   \n",
       "2          0.753840  0.749233  0.816658  0.360889  0.635667    0.708908   \n",
       "3          0.825880  0.663340  0.280936  0.084667  0.187405    0.581278   \n",
       "4          0.886586  0.805109  0.431537  0.414088  0.397373    0.537138   \n",
       "\n",
       "       love  \n",
       "0  0.049290  \n",
       "1  0.056692  \n",
       "2  0.449132  \n",
       "3  0.175452  \n",
       "4  0.343116  "
      ]
     },
     "execution_count": 68,
     "metadata": {},
     "output_type": "execute_result"
    }
   ],
   "source": [
    "theme_df"
   ]
  },
  {
   "cell_type": "code",
   "execution_count": 72,
   "metadata": {},
   "outputs": [],
   "source": [
    "theme_df = theme_df.sum().reset_index()"
   ]
  },
  {
   "cell_type": "code",
   "execution_count": 73,
   "metadata": {},
   "outputs": [
    {
     "data": {
      "text/html": [
       "<div>\n",
       "<style scoped>\n",
       "    .dataframe tbody tr th:only-of-type {\n",
       "        vertical-align: middle;\n",
       "    }\n",
       "\n",
       "    .dataframe tbody tr th {\n",
       "        vertical-align: top;\n",
       "    }\n",
       "\n",
       "    .dataframe thead th {\n",
       "        text-align: right;\n",
       "    }\n",
       "</style>\n",
       "<table border=\"1\" class=\"dataframe\">\n",
       "  <thead>\n",
       "    <tr style=\"text-align: right;\">\n",
       "      <th></th>\n",
       "      <th>theme</th>\n",
       "      <th>score</th>\n",
       "    </tr>\n",
       "  </thead>\n",
       "  <tbody>\n",
       "    <tr>\n",
       "      <th>0</th>\n",
       "      <td>hard work</td>\n",
       "      <td>4.628005</td>\n",
       "    </tr>\n",
       "    <tr>\n",
       "      <th>1</th>\n",
       "      <td>betrayal</td>\n",
       "      <td>3.299194</td>\n",
       "    </tr>\n",
       "    <tr>\n",
       "      <th>2</th>\n",
       "      <td>battle</td>\n",
       "      <td>3.980289</td>\n",
       "    </tr>\n",
       "    <tr>\n",
       "      <th>3</th>\n",
       "      <td>dialogue</td>\n",
       "      <td>4.380801</td>\n",
       "    </tr>\n",
       "    <tr>\n",
       "      <th>4</th>\n",
       "      <td>war</td>\n",
       "      <td>3.007505</td>\n",
       "    </tr>\n",
       "    <tr>\n",
       "      <th>5</th>\n",
       "      <td>sacrifice</td>\n",
       "      <td>3.848258</td>\n",
       "    </tr>\n",
       "    <tr>\n",
       "      <th>6</th>\n",
       "      <td>self development</td>\n",
       "      <td>3.974241</td>\n",
       "    </tr>\n",
       "    <tr>\n",
       "      <th>7</th>\n",
       "      <td>pain</td>\n",
       "      <td>3.740817</td>\n",
       "    </tr>\n",
       "    <tr>\n",
       "      <th>8</th>\n",
       "      <td>dream</td>\n",
       "      <td>2.325415</td>\n",
       "    </tr>\n",
       "    <tr>\n",
       "      <th>9</th>\n",
       "      <td>hatred</td>\n",
       "      <td>1.880775</td>\n",
       "    </tr>\n",
       "    <tr>\n",
       "      <th>10</th>\n",
       "      <td>hope</td>\n",
       "      <td>1.485327</td>\n",
       "    </tr>\n",
       "    <tr>\n",
       "      <th>11</th>\n",
       "      <td>friendship</td>\n",
       "      <td>2.025238</td>\n",
       "    </tr>\n",
       "    <tr>\n",
       "      <th>12</th>\n",
       "      <td>love</td>\n",
       "      <td>1.073682</td>\n",
       "    </tr>\n",
       "  </tbody>\n",
       "</table>\n",
       "</div>"
      ],
      "text/plain": [
       "               theme     score\n",
       "0          hard work  4.628005\n",
       "1           betrayal  3.299194\n",
       "2             battle  3.980289\n",
       "3           dialogue  4.380801\n",
       "4                war  3.007505\n",
       "5          sacrifice  3.848258\n",
       "6   self development  3.974241\n",
       "7               pain  3.740817\n",
       "8              dream  2.325415\n",
       "9             hatred  1.880775\n",
       "10              hope  1.485327\n",
       "11        friendship  2.025238\n",
       "12              love  1.073682"
      ]
     },
     "execution_count": 73,
     "metadata": {},
     "output_type": "execute_result"
    }
   ],
   "source": [
    "theme_df.columns = ['theme','score']\n",
    "theme_df"
   ]
  },
  {
   "cell_type": "code",
   "execution_count": 74,
   "metadata": {},
   "outputs": [
    {
     "data": {
      "image/png": "[encoded data removed]",
      "text/plain": [
       "<Figure size 640x480 with 1 Axes>"
      ]
     },
     "metadata": {},
     "output_type": "display_data"
    }
   ],
   "source": [
    "import matplotlib.pyplot as plt\n",
    "import seaborn as sns\n",
    "\n",
    "sns.barplot(data = theme_df ,x=\"theme\",y=\"score\" )\n",
    "plt.xticks(rotation=45)\n",
    "plt.show()"
   ]
  },
  {
   "cell_type": "code",
   "execution_count": null,
   "metadata": {},
   "outputs": [],
   "source": []
  },
  {
   "cell_type": "code",
   "execution_count": null,
   "metadata": {},
   "outputs": [],
   "source": []
  }
 ],
 "metadata": {
  "kernelspec": {
   "display_name": "series_analysis",
   "language": "python",
   "name": "python3"
  },
  "language_info": {
   "codemirror_mode": {
    "name": "ipython",
    "version": 3
   },
   "file_extension": ".py",
   "mimetype": "text/x-python",
   "name": "python",
   "nbconvert_exporter": "python",
   "pygments_lexer": "ipython3",
   "version": "3.9.20"
  }
 },
 "nbformat": 4,
 "nbformat_minor": 2
}
